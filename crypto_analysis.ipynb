{
 "cells": [
  {
   "cell_type": "code",
   "execution_count": 1,
   "id": "44d82c37",
   "metadata": {},
   "outputs": [
    {
     "name": "stdout",
     "output_type": "stream",
     "text": [
      "--- Fear & Greed Index Data Info ---\n",
      "<class 'pandas.core.frame.DataFrame'>\n",
      "RangeIndex: 2644 entries, 0 to 2643\n",
      "Data columns (total 4 columns):\n",
      " #   Column          Non-Null Count  Dtype \n",
      "---  ------          --------------  ----- \n",
      " 0   timestamp       2644 non-null   int64 \n",
      " 1   value           2644 non-null   int64 \n",
      " 2   classification  2644 non-null   object\n",
      " 3   date            2644 non-null   object\n",
      "dtypes: int64(2), object(2)\n",
      "memory usage: 82.8+ KB\n",
      "\n",
      "--- Historical Trader Data Info ---\n",
      "<class 'pandas.core.frame.DataFrame'>\n",
      "RangeIndex: 211224 entries, 0 to 211223\n",
      "Data columns (total 16 columns):\n",
      " #   Column            Non-Null Count   Dtype  \n",
      "---  ------            --------------   -----  \n",
      " 0   Account           211224 non-null  object \n",
      " 1   Coin              211224 non-null  object \n",
      " 2   Execution Price   211224 non-null  float64\n",
      " 3   Size Tokens       211224 non-null  float64\n",
      " 4   Size USD          211224 non-null  float64\n",
      " 5   Side              211224 non-null  object \n",
      " 6   Timestamp IST     211224 non-null  object \n",
      " 7   Start Position    211224 non-null  float64\n",
      " 8   Direction         211224 non-null  object \n",
      " 9   Closed PnL        211224 non-null  float64\n",
      " 10  Transaction Hash  211224 non-null  object \n",
      " 11  Order ID          211224 non-null  int64  \n",
      " 12  Crossed           211224 non-null  bool   \n",
      " 13  Fee               211224 non-null  float64\n",
      " 14  Trade ID          211224 non-null  float64\n",
      " 15  Timestamp         211224 non-null  float64\n",
      "dtypes: bool(1), float64(8), int64(1), object(6)\n",
      "memory usage: 24.4+ MB\n"
     ]
    }
   ],
   "source": [
    "import pandas as pd\n",
    "\n",
    "# Load the datasets\n",
    "fear_greed_df = pd.read_csv(\"fear_greed_index.csv\")\n",
    "historical_df = pd.read_csv(\"historical_data.csv\")\n",
    "\n",
    "# Display a summary of each DataFrame\n",
    "print(\"--- Fear & Greed Index Data Info ---\")\n",
    "fear_greed_df.info()\n",
    "\n",
    "print(\"\\n--- Historical Trader Data Info ---\")\n",
    "historical_df.info()"
   ]
  },
  {
   "cell_type": "code",
   "execution_count": 2,
   "id": "65948893",
   "metadata": {},
   "outputs": [
    {
     "name": "stdout",
     "output_type": "stream",
     "text": [
      "Daily PnL DataFrame:\n",
      "        date  Total_Daily_PnL\n",
      "0 2023-05-01         0.000000\n",
      "1 2023-12-05         0.000000\n",
      "2 2023-12-14      -205.434737\n",
      "3 2023-12-15       -24.632034\n",
      "4 2023-12-16         0.000000\n"
     ]
    }
   ],
   "source": [
    "# Convert 'date' in the Fear & Greed Index to a datetime object\n",
    "fear_greed_df['date'] = pd.to_datetime(fear_greed_df['date'])\n",
    "\n",
    "# Convert 'Timestamp IST' in the Historical Data to a date and then aggregate\n",
    "historical_df['date'] = pd.to_datetime(historical_df['Timestamp IST'], dayfirst=True).dt.date\n",
    "\n",
    "# Calculate the total PnL for each day\n",
    "daily_pnl_df = historical_df.groupby('date')['Closed PnL'].sum().reset_index()\n",
    "daily_pnl_df.rename(columns={'Closed PnL': 'Total_Daily_PnL'}, inplace=True)\n",
    "\n",
    "# Convert the date column to datetime for the merge\n",
    "daily_pnl_df['date'] = pd.to_datetime(daily_pnl_df['date'])\n",
    "\n",
    "print(\"Daily PnL DataFrame:\")\n",
    "print(daily_pnl_df.head())"
   ]
  },
  {
   "cell_type": "code",
   "execution_count": 3,
   "id": "cb2c8616",
   "metadata": {},
   "outputs": [
    {
     "name": "stdout",
     "output_type": "stream",
     "text": [
      "\n",
      "Merged Data Summary:\n",
      "        date classification  value  Total_Daily_PnL\n",
      "0 2023-05-01          Greed     63         0.000000\n",
      "1 2023-12-05  Extreme Greed     75         0.000000\n",
      "2 2023-12-14          Greed     72      -205.434737\n",
      "3 2023-12-15          Greed     70       -24.632034\n",
      "4 2023-12-16          Greed     67         0.000000\n"
     ]
    }
   ],
   "source": [
    "# Merge the Fear & Greed data with the daily PnL data\n",
    "merged_df = pd.merge(fear_greed_df, daily_pnl_df, on='date', how='inner')\n",
    "\n",
    "print(\"\\nMerged Data Summary:\")\n",
    "print(merged_df[['date', 'classification', 'value', 'Total_Daily_PnL']].head())"
   ]
  },
  {
   "cell_type": "code",
   "execution_count": 4,
   "id": "f70a5f27",
   "metadata": {},
   "outputs": [
    {
     "name": "stdout",
     "output_type": "stream",
     "text": [
      "--- Average PnL by Sentiment ---\n",
      "  classification  Total_Daily_PnL\n",
      "0   Extreme Fear     52793.589178\n",
      "1           Fear     36891.818040\n",
      "2  Extreme Greed     23817.292199\n",
      "3        Neutral     19297.323516\n",
      "4          Greed     11140.566181\n",
      "\n",
      "--- Win Rate by Sentiment ---\n",
      "classification\n",
      "Extreme Greed    87.719298\n",
      "Fear             73.626374\n",
      "Greed            72.538860\n",
      "Neutral          67.164179\n",
      "Extreme Fear     64.285714\n",
      "Name: Winning_Day, dtype: float64\n",
      "\n",
      "Correlation between FGI Value and Total Daily PnL: -0.0826\n"
     ]
    }
   ],
   "source": [
    "# Calculate the Mean Daily PnL for each sentiment classification\n",
    "mean_pnl_by_sentiment = merged_df.groupby('classification')['Total_Daily_PnL'].mean().sort_values(ascending=False).reset_index()\n",
    "\n",
    "# Calculate the win rate for each classification\n",
    "merged_df['Winning_Day'] = merged_df['Total_Daily_PnL'] > 0\n",
    "win_rate_by_sentiment = merged_df.groupby('classification')['Winning_Day'].mean().sort_values(ascending=False) * 100\n",
    "\n",
    "print(\"--- Average PnL by Sentiment ---\")\n",
    "print(mean_pnl_by_sentiment)\n",
    "\n",
    "print(\"\\n--- Win Rate by Sentiment ---\")\n",
    "print(win_rate_by_sentiment)\n",
    "\n",
    "# Calculate the correlation between FGI value and PnL\n",
    "correlation = merged_df['value'].corr(merged_df['Total_Daily_PnL'])\n",
    "print(f\"\\nCorrelation between FGI Value and Total Daily PnL: {correlation:.4f}\")"
   ]
  },
  {
   "cell_type": "code",
   "execution_count": 6,
   "id": "a247f648",
   "metadata": {},
   "outputs": [
    {
     "name": "stderr",
     "output_type": "stream",
     "text": [
      "Matplotlib is building the font cache; this may take a moment.\n",
      "C:\\Users\\aiswa\\AppData\\Local\\Temp\\ipykernel_12608\\144722401.py:16: FutureWarning: \n",
      "\n",
      "Passing `palette` without assigning `hue` is deprecated and will be removed in v0.14.0. Assign the `x` variable to `hue` and set `legend=False` for the same effect.\n",
      "\n",
      "  sns.barplot(x='classification', y='Total_Daily_PnL', data=mean_pnl_by_sentiment, palette='viridis')\n"
     ]
    },
    {
     "data": {
      "image/png": "[encoded data removed]",
      "text/plain": [
       "<Figure size 1000x600 with 1 Axes>"
      ]
     },
     "metadata": {},
     "output_type": "display_data"
    },
    {
     "data": {
      "text/plain": [
       "<Figure size 640x480 with 0 Axes>"
      ]
     },
     "metadata": {},
     "output_type": "display_data"
    }
   ],
   "source": [
    "import matplotlib.pyplot as plt\n",
    "import seaborn as sns\n",
    "\n",
    "# Set a style for the plot\n",
    "sns.set_style(\"whitegrid\")\n",
    "\n",
    "# Create a custom order for the classifications to make the plot logical\n",
    "sentiment_order = ['Extreme Greed', 'Greed', 'Neutral', 'Fear', 'Extreme Fear']\n",
    "\n",
    "# Ensure the DataFrame is sorted for plotting\n",
    "mean_pnl_by_sentiment['classification'] = pd.Categorical(mean_pnl_by_sentiment['classification'], categories=sentiment_order, ordered=True)\n",
    "mean_pnl_by_sentiment.sort_values('classification', inplace=True)\n",
    "\n",
    "# Create the bar plot\n",
    "plt.figure(figsize=(10, 6))\n",
    "sns.barplot(x='classification', y='Total_Daily_PnL', data=mean_pnl_by_sentiment, palette='viridis')\n",
    "plt.title('Average Daily Trader PnL by Market Sentiment')\n",
    "plt.xlabel('Market Sentiment Classification')\n",
    "plt.ylabel('Average Daily PnL (USD)')\n",
    "plt.xticks(rotation=45, ha='right')\n",
    "plt.tight_layout()\n",
    "plt.show()\n",
    "\n",
    "# You can save the figure to a file as well\n",
    "plt.savefig('avg_pnl_by_sentiment_bar_chart.png')"
   ]
  }
 ],
 "metadata": {
  "kernelspec": {
   "display_name": "Python 3",
   "language": "python",
   "name": "python3"
  },
  "language_info": {
   "codemirror_mode": {
    "name": "ipython",
    "version": 3
   },
   "file_extension": ".py",
   "mimetype": "text/x-python",
   "name": "python",
   "nbconvert_exporter": "python",
   "pygments_lexer": "ipython3",
   "version": "3.10.0"
  }
 },
 "nbformat": 4,
 "nbformat_minor": 5
}
